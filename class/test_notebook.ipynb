{
  "cells": [
    {
      "cell_type": "markdown",
      "source": [
        "# Content with notebooks\n",
        "\n",
        "You can also create content with Jupyter Notebooks. This means that you can include\n",
        "code blocks and their outputs in your book."
      ],
      "metadata": {}
    },
    {
      "cell_type": "code",
      "source": [
        "print(5)"
      ],
      "outputs": [
        {
          "output_type": "stream",
          "name": "stdout",
          "text": [
            "5\n"
          ]
        }
      ],
      "execution_count": 4,
      "metadata": {
        "execution": {
          "iopub.status.busy": "2020-07-15T07:59:12.194Z",
          "iopub.execute_input": "2020-07-15T07:59:12.200Z",
          "iopub.status.idle": "2020-07-15T07:59:12.210Z",
          "shell.execute_reply": "2020-07-15T07:59:12.213Z"
        }
      }
    },
    {
      "cell_type": "markdown",
      "source": [
        "## Section"
      ],
      "metadata": {}
    },
    {
      "cell_type": "markdown",
      "source": [
        "<div>\n",
        "<iframe src=\"https://portal.mypearson.com\" width = \"1000px\" height = \"600px\"> </iframe>\n",
        "</div>"
      ],
      "metadata": {
        "nteract": {
          "transient": {
            "deleting": false
          }
        }
      }
    },
    {
      "cell_type": "code",
      "source": [],
      "outputs": [],
      "execution_count": null,
      "metadata": {
        "collapsed": true,
        "jupyter": {
          "source_hidden": false,
          "outputs_hidden": false
        },
        "nteract": {
          "transient": {
            "deleting": false
          }
        }
      }
    }
  ],
  "metadata": {
    "kernelspec": {
      "display_name": "Python 3",
      "language": "python",
      "name": "python3"
    },
    "language_info": {
      "name": "python",
      "version": "3.7.7",
      "mimetype": "text/x-python",
      "codemirror_mode": {
        "name": "ipython",
        "version": 3
      },
      "pygments_lexer": "ipython3",
      "nbconvert_exporter": "python",
      "file_extension": ".py"
    },
    "nteract": {
      "version": "0.24.0"
    },
    "widgets": {
      "application/vnd.jupyter.widget-state+json": {
        "state": {},
        "version_major": 2,
        "version_minor": 0
      }
    }
  },
  "nbformat": 4,
  "nbformat_minor": 4
}